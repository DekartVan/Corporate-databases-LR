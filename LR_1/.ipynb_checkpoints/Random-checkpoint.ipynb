{
 "cells": [
  {
   "cell_type": "code",
   "execution_count": 14,
   "id": "0f5011d9-0d54-4e68-9a2a-78edb61b76bd",
   "metadata": {},
   "outputs": [],
   "source": [
    "import faker \n",
    "import psycopg2\n",
    "from datetime import datetime, timedelta\n",
    "import random"
   ]
  },
  {
   "cell_type": "code",
   "execution_count": 15,
   "id": "42a898e6-d03f-4759-9ce8-61fb1e94a148",
   "metadata": {},
   "outputs": [],
   "source": [
    "# Подключение к базе данных\n",
    "conn = psycopg2.connect(\n",
    "    dbname=\"bookstore\",\n",
    "    user=\"postgres\",\n",
    "    password=\"postgres\",\n",
    "    host=\"localhost\",\n",
    "    port=\"5432\"\n",
    ")\n",
    "cur = conn.cursor()"
   ]
  },
  {
   "cell_type": "code",
   "execution_count": 16,
   "id": "3cd585ab-077c-4c25-adc7-a6db7acf6f2e",
   "metadata": {},
   "outputs": [],
   "source": [
    "# Создание объекта Faker для генерации фальшивых данных\n",
    "fake = faker.Faker()"
   ]
  },
  {
   "cell_type": "code",
   "execution_count": 17,
   "id": "4c8e027f-a9a2-48eb-bc5a-5f66eb3e95c7",
   "metadata": {},
   "outputs": [],
   "source": [
    "# Жанры книг\n",
    "genres = ['Science Fiction', 'Mystery', 'Romance', 'Adventure', 'Fantasy', 'Horror', 'Drama', 'Poetry', 'Popular Science', 'Historical Fiction', 'Biography', 'Thriller', 'Psychology', 'Philosophy', 'Classics', 'Non-fiction', 'Humor', 'Travel Guides', 'Self-help', 'Memoirs']\n"
   ]
  },
  {
   "cell_type": "code",
   "execution_count": 4,
   "id": "ef60a116-7cc0-49ca-b1b7-d12c05345819",
   "metadata": {},
   "outputs": [],
   "source": [
    "\n",
    "# Заполнение таблицы \"genre\"\n",
    "for idx, genre in enumerate(genres, start=1):\n",
    "    cur.execute(\"INSERT INTO public.genre (genre_id, name, description) VALUES (%s, %s, %s)\", (idx, genre, f\"Description for {genre}\"))\n",
    "conn.commit()"
   ]
  },
  {
   "cell_type": "code",
   "execution_count": 18,
   "id": "202146cb-de38-45f9-8425-7604216b70a5",
   "metadata": {},
   "outputs": [
    {
     "ename": "UniqueViolation",
     "evalue": "ОШИБКА:  повторяющееся значение ключа нарушает ограничение уникальности \"pk_author_id\"\nDETAIL:  Ключ \"(author_id)=(1)\" уже существует.\n",
     "output_type": "error",
     "traceback": [
      "\u001b[1;31m---------------------------------------------------------------------------\u001b[0m",
      "\u001b[1;31mUniqueViolation\u001b[0m                           Traceback (most recent call last)",
      "Cell \u001b[1;32mIn[18], line 9\u001b[0m\n\u001b[0;32m      7\u001b[0m     authors\u001b[38;5;241m.\u001b[39mappend((i, last_name, first_name, rating))\n\u001b[0;32m      8\u001b[0m \u001b[38;5;66;03m# Заполнение таблицы \"author\"\u001b[39;00m\n\u001b[1;32m----> 9\u001b[0m \u001b[43mcur\u001b[49m\u001b[38;5;241;43m.\u001b[39;49m\u001b[43mexecutemany\u001b[49m\u001b[43m(\u001b[49m\u001b[38;5;124;43m\"\u001b[39;49m\u001b[38;5;124;43mINSERT INTO public.author (author_id, last_name, first_name, rating) VALUES (\u001b[39;49m\u001b[38;5;132;43;01m%s\u001b[39;49;00m\u001b[38;5;124;43m, \u001b[39;49m\u001b[38;5;132;43;01m%s\u001b[39;49;00m\u001b[38;5;124;43m, \u001b[39;49m\u001b[38;5;132;43;01m%s\u001b[39;49;00m\u001b[38;5;124;43m, \u001b[39;49m\u001b[38;5;132;43;01m%s\u001b[39;49;00m\u001b[38;5;124;43m)\u001b[39;49m\u001b[38;5;124;43m\"\u001b[39;49m\u001b[43m,\u001b[49m\u001b[43m \u001b[49m\u001b[43mauthors\u001b[49m\u001b[43m)\u001b[49m\n\u001b[0;32m     10\u001b[0m conn\u001b[38;5;241m.\u001b[39mcommit()\n",
      "\u001b[1;31mUniqueViolation\u001b[0m: ОШИБКА:  повторяющееся значение ключа нарушает ограничение уникальности \"pk_author_id\"\nDETAIL:  Ключ \"(author_id)=(1)\" уже существует.\n"
     ]
    }
   ],
   "source": [
    "# Генерация авторов книг\n",
    "authors = []\n",
    "for i in range(1, 20001):  # Генерация 200 авторов\n",
    "    last_name = fake.last_name()\n",
    "    first_name = fake.first_name()\n",
    "    rating = random.randint(1, 10)\n",
    "    authors.append((i, last_name, first_name, rating))\n",
    "# Заполнение таблицы \"author\"\n",
    "cur.executemany(\"INSERT INTO public.author (author_id, last_name, first_name, rating) VALUES (%s, %s, %s, %s)\", authors)\n",
    "conn.commit()"
   ]
  },
  {
   "cell_type": "code",
   "execution_count": 6,
   "id": "c1bccd5c-af76-4e95-a806-8e415899cdc0",
   "metadata": {},
   "outputs": [],
   "source": [
    "# Генерация издателей\n",
    "publishers = []\n",
    "for i in range(1, 1001):  # Генерация 50 издателей\n",
    "    name = fake.company()\n",
    "    city = fake.city()\n",
    "    address = fake.address()\n",
    "    contact_phone = fake.phone_number()\n",
    "    purpose = fake.word()\n",
    "    ownership = random.choice(['Public', 'Private'])\n",
    "    publishers.append((i, name, city, address, contact_phone, purpose, ownership))\n",
    "# Заполнение таблицы \"publisher\"\n",
    "cur.executemany(\"INSERT INTO public.publisher (publisher_id, name, city, adress, contact_phone, purpose, ownership) VALUES (%s, %s, %s, %s, %s, %s, %s)\", publishers)\n",
    "conn.commit()"
   ]
  },
  {
   "cell_type": "code",
   "execution_count": 7,
   "id": "3aacbff5-bd24-47d2-b0f6-9ffde46aa1f5",
   "metadata": {},
   "outputs": [],
   "source": [
    "# Генерация контактных лиц складов\n",
    "existing_warehouse_contacts = [i for i in range(1, 1501)]  # Существующие контактные лица складов\n",
    "warehouse_contacts = []\n",
    "for i in range(1, 1501):  # Генерация 100 контактных лиц складов\n",
    "    contact_id = existing_warehouse_contacts.pop(random.randint(0, len(existing_warehouse_contacts) - 1))\n",
    "    last_name = fake.last_name()\n",
    "    first_name = fake.first_name()\n",
    "    num_phone = fake.phone_number()\n",
    "    sex = random.choice(['M', 'F'])\n",
    "    warehouse_contacts.append((contact_id, last_name, first_name, num_phone, sex))\n",
    "# Заполнение таблицы \"warehouse_contact_person\"\n",
    "cur.executemany(\"INSERT INTO public.warehouse_contact_person (warehouse_contact_person_id, last_name, first_name, num_phone, sex) VALUES (%s, %s, %s, %s, %s)\", warehouse_contacts)\n",
    "conn.commit()\n"
   ]
  },
  {
   "cell_type": "code",
   "execution_count": 7,
   "id": "fbe98b13-af62-4bfe-a722-5b48cabe9e5a",
   "metadata": {},
   "outputs": [],
   "source": [
    "# Генерация складов\n",
    "warehouses = []\n",
    "for i in range(1, 1501):  # Генерация 1500 складов\n",
    "    city = fake.city()\n",
    "    address = fake.address()\n",
    "    size = random.choice(['Small', 'Medium', 'Large'])\n",
    "    fk_contact = random.randint(1, 1501)  # Ссылка на контактное лицо склада\n",
    "    warehouses.append((i, city, address, size, fk_contact))\n",
    "# Заполнение таблицы \"warehouse\"\n",
    "cur.executemany(\"INSERT INTO public.warehouse (warehouse_id, city, adress, size, fk_contact) VALUES (%s, %s, %s, %s, %s)\", warehouses)\n",
    "conn.commit()"
   ]
  },
  {
   "cell_type": "code",
   "execution_count": 10,
   "id": "a6432831-5b49-4b77-bdf6-eb5a737d90e7",
   "metadata": {},
   "outputs": [],
   "source": [
    "# Генерация книг\n",
    "books = []\n",
    "for i in range(1, 5000001):  # Генерация 5000000 книг\n",
    "    title = fake.text(max_nb_chars=128)\n",
    "    genre = random.choice(genres)\n",
    "    rating = random.randint(1, 10)\n",
    "    author = fake.name()\n",
    "    price = round(random.uniform(5.99, 99.99), 2)\n",
    "    num_sales = random.randint(100, 1000000)\n",
    "    publisher_id = random.randint(1, 50)  # Ссылка на издателя книги\n",
    "    author_id = random.randint(1, 200)  # Ссылка на автора книги\n",
    "    books.append((i, title, genre, rating, author, price, num_sales, publisher_id, genres.index(genre) + 1))\n",
    "# Заполнение таблицы \"book\"\n",
    "cur.executemany(\"INSERT INTO public.book (book_id, title, genre, rating, author, price, num_sales, fk_publisher_id, fk_genre_id) VALUES (%s, %s, %s, %s, %s, %s, %s, %s, %s)\", books)\n",
    "conn.commit()"
   ]
  },
  {
   "cell_type": "code",
   "execution_count": 11,
   "id": "160eb279-18b1-42bb-a3ec-1cdfc70d6510",
   "metadata": {},
   "outputs": [],
   "source": [
    "# Генерация связей книг с авторами\n",
    "book_authors = []\n",
    "for i in range(1, 1000001):  # Генерация 10000 связей книг с авторами\n",
    "    book_id = random.randint(1, 5000001)\n",
    "    author_id = random.randint(1, 20001)\n",
    "    book_authors.append((book_id, author_id))\n",
    "# Заполнение таблицы \"book_author\"\n",
    "cur.executemany(\"INSERT INTO public.book_author (book_book_id, author_author_id) VALUES (%s, %s)\", book_authors)\n",
    "conn.commit()\n"
   ]
  },
  {
   "cell_type": "code",
   "execution_count": 12,
   "id": "022538e8-cb5a-4b3b-8a5a-91ddbb712405",
   "metadata": {},
   "outputs": [],
   "source": [
    "# Генерация связей книг с складами\n",
    "book_warehouses = []\n",
    "for i in range(1, 5000001):  # Генерация 10000 связей книг с складами\n",
    "    book_id = random.randint(1, 5000001)\n",
    "    warehouse_id = random.randint(1, 1501)\n",
    "    book_warehouses.append((book_id, warehouse_id))\n",
    "# Заполнение таблицы \"book_warehouse\"\n",
    "cur.executemany(\"INSERT INTO public.book_warehouse (book_book_id, warehouse_warehouse_id) VALUES (%s, %s)\", book_warehouses)\n",
    "conn.commit()"
   ]
  },
  {
   "cell_type": "code",
   "execution_count": 20,
   "id": "b7cc8a25-67ef-4f2f-aab9-417f65d70439",
   "metadata": {},
   "outputs": [],
   "source": [
    "# Закрытие соединения\n",
    "cur.close()\n",
    "conn.close()"
   ]
  }
 ],
 "metadata": {
  "kernelspec": {
   "display_name": "Python 3 (ipykernel)",
   "language": "python",
   "name": "python3"
  },
  "language_info": {
   "codemirror_mode": {
    "name": "ipython",
    "version": 3
   },
   "file_extension": ".py",
   "mimetype": "text/x-python",
   "name": "python",
   "nbconvert_exporter": "python",
   "pygments_lexer": "ipython3",
   "version": "3.8.3"
  }
 },
 "nbformat": 4,
 "nbformat_minor": 5
}
