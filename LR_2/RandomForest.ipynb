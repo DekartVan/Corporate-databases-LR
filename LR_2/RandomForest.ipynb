{
 "cells": [
  {
   "cell_type": "code",
   "execution_count": 20,
   "id": "eaac7a75-c583-443c-b1d3-446e484281b0",
   "metadata": {},
   "outputs": [],
   "source": [
    "import pandas as pd\n",
    "import sklearn as sk\n",
    "import numpy as np\n",
    "import matplotlib.pyplot as plt\n",
    "\n",
    "from sklearn.feature_selection import SelectKBest\n",
    "from sklearn.feature_selection import f_classif\n",
    "from sklearn.model_selection import cross_val_score\n",
    "from sklearn.ensemble import RandomForestClassifier\n",
    "\n",
    "\n",
    "from sklearn.metrics import accuracy_score, precision_score, recall_score, f1_score, classification_report, confusion_matrix\n",
    "\n",
    "from sklearn.preprocessing import StandardScaler\n"
   ]
  },
  {
   "cell_type": "code",
   "execution_count": 2,
   "id": "1da0c71e-8116-4c39-a18c-4f864d302430",
   "metadata": {},
   "outputs": [],
   "source": [
    "df = pd.read_csv('data.csv')"
   ]
  },
  {
   "cell_type": "code",
   "execution_count": 3,
   "id": "8a009a26-654e-4ade-8bb6-60bc09fffaa2",
   "metadata": {},
   "outputs": [
    {
     "data": {
      "text/html": [
       "<div>\n",
       "<style scoped>\n",
       "    .dataframe tbody tr th:only-of-type {\n",
       "        vertical-align: middle;\n",
       "    }\n",
       "\n",
       "    .dataframe tbody tr th {\n",
       "        vertical-align: top;\n",
       "    }\n",
       "\n",
       "    .dataframe thead th {\n",
       "        text-align: right;\n",
       "    }\n",
       "</style>\n",
       "<table border=\"1\" class=\"dataframe\">\n",
       "  <thead>\n",
       "    <tr style=\"text-align: right;\">\n",
       "      <th></th>\n",
       "      <th>genre</th>\n",
       "      <th>num_sales</th>\n",
       "      <th>price</th>\n",
       "      <th>rating</th>\n",
       "      <th>author_rating</th>\n",
       "      <th>recommend</th>\n",
       "    </tr>\n",
       "  </thead>\n",
       "  <tbody>\n",
       "    <tr>\n",
       "      <th>0</th>\n",
       "      <td>Psychology</td>\n",
       "      <td>266559</td>\n",
       "      <td>68.32</td>\n",
       "      <td>9</td>\n",
       "      <td>5</td>\n",
       "      <td>True</td>\n",
       "    </tr>\n",
       "    <tr>\n",
       "      <th>1</th>\n",
       "      <td>Self-help</td>\n",
       "      <td>676405</td>\n",
       "      <td>94.12</td>\n",
       "      <td>6</td>\n",
       "      <td>5</td>\n",
       "      <td>True</td>\n",
       "    </tr>\n",
       "    <tr>\n",
       "      <th>2</th>\n",
       "      <td>Historical Fiction</td>\n",
       "      <td>53434</td>\n",
       "      <td>44.66</td>\n",
       "      <td>10</td>\n",
       "      <td>10</td>\n",
       "      <td>False</td>\n",
       "    </tr>\n",
       "    <tr>\n",
       "      <th>3</th>\n",
       "      <td>Non-fiction</td>\n",
       "      <td>294583</td>\n",
       "      <td>79.50</td>\n",
       "      <td>1</td>\n",
       "      <td>5</td>\n",
       "      <td>True</td>\n",
       "    </tr>\n",
       "    <tr>\n",
       "      <th>4</th>\n",
       "      <td>Philosophy</td>\n",
       "      <td>973221</td>\n",
       "      <td>84.86</td>\n",
       "      <td>9</td>\n",
       "      <td>5</td>\n",
       "      <td>False</td>\n",
       "    </tr>\n",
       "  </tbody>\n",
       "</table>\n",
       "</div>"
      ],
      "text/plain": [
       "                genre  num_sales  price  rating  author_rating  recommend\n",
       "0          Psychology     266559  68.32       9              5       True\n",
       "1           Self-help     676405  94.12       6              5       True\n",
       "2  Historical Fiction      53434  44.66      10             10      False\n",
       "3         Non-fiction     294583  79.50       1              5       True\n",
       "4          Philosophy     973221  84.86       9              5      False"
      ]
     },
     "execution_count": 3,
     "metadata": {},
     "output_type": "execute_result"
    }
   ],
   "source": [
    "df.head()"
   ]
  },
  {
   "cell_type": "code",
   "execution_count": 4,
   "id": "21c9f0a2-1c64-456a-b657-cb8bf7674c14",
   "metadata": {},
   "outputs": [
    {
     "name": "stdout",
     "output_type": "stream",
     "text": [
      "<class 'pandas.core.frame.DataFrame'>\n",
      "RangeIndex: 4999999 entries, 0 to 4999998\n",
      "Data columns (total 6 columns):\n",
      " #   Column         Dtype  \n",
      "---  ------         -----  \n",
      " 0   genre          object \n",
      " 1   num_sales      int64  \n",
      " 2   price          float64\n",
      " 3   rating         int64  \n",
      " 4   author_rating  int64  \n",
      " 5   recommend      bool   \n",
      "dtypes: bool(1), float64(1), int64(3), object(1)\n",
      "memory usage: 195.5+ MB\n"
     ]
    }
   ],
   "source": [
    "df.info()"
   ]
  },
  {
   "cell_type": "code",
   "execution_count": 5,
   "id": "a6a7209c-6afe-41d1-ba98-5cd202b047a2",
   "metadata": {},
   "outputs": [],
   "source": [
    "df = df[1:4999]"
   ]
  },
  {
   "cell_type": "code",
   "execution_count": 6,
   "id": "214bad4b-6dae-4933-ad3f-611a61a031e5",
   "metadata": {},
   "outputs": [
    {
     "name": "stdout",
     "output_type": "stream",
     "text": [
      "<class 'pandas.core.frame.DataFrame'>\n",
      "RangeIndex: 49998 entries, 1 to 49998\n",
      "Data columns (total 6 columns):\n",
      " #   Column         Non-Null Count  Dtype  \n",
      "---  ------         --------------  -----  \n",
      " 0   genre          49998 non-null  object \n",
      " 1   num_sales      49998 non-null  int64  \n",
      " 2   price          49998 non-null  float64\n",
      " 3   rating         49998 non-null  int64  \n",
      " 4   author_rating  49998 non-null  int64  \n",
      " 5   recommend      49998 non-null  bool   \n",
      "dtypes: bool(1), float64(1), int64(3), object(1)\n",
      "memory usage: 2.0+ MB\n"
     ]
    }
   ],
   "source": [
    "df.info()"
   ]
  },
  {
   "cell_type": "code",
   "execution_count": 7,
   "id": "41c8bef6-fae8-4593-a905-4d5e57855920",
   "metadata": {},
   "outputs": [
    {
     "data": {
      "text/html": [
       "<div>\n",
       "<style scoped>\n",
       "    .dataframe tbody tr th:only-of-type {\n",
       "        vertical-align: middle;\n",
       "    }\n",
       "\n",
       "    .dataframe tbody tr th {\n",
       "        vertical-align: top;\n",
       "    }\n",
       "\n",
       "    .dataframe thead th {\n",
       "        text-align: right;\n",
       "    }\n",
       "</style>\n",
       "<table border=\"1\" class=\"dataframe\">\n",
       "  <thead>\n",
       "    <tr style=\"text-align: right;\">\n",
       "      <th></th>\n",
       "      <th>genre</th>\n",
       "      <th>num_sales</th>\n",
       "      <th>price</th>\n",
       "      <th>rating</th>\n",
       "      <th>author_rating</th>\n",
       "      <th>recommend</th>\n",
       "    </tr>\n",
       "  </thead>\n",
       "  <tbody>\n",
       "    <tr>\n",
       "      <th>1</th>\n",
       "      <td>17</td>\n",
       "      <td>676405</td>\n",
       "      <td>94.12</td>\n",
       "      <td>6</td>\n",
       "      <td>5</td>\n",
       "      <td>1</td>\n",
       "    </tr>\n",
       "    <tr>\n",
       "      <th>2</th>\n",
       "      <td>5</td>\n",
       "      <td>53434</td>\n",
       "      <td>44.66</td>\n",
       "      <td>10</td>\n",
       "      <td>10</td>\n",
       "      <td>0</td>\n",
       "    </tr>\n",
       "    <tr>\n",
       "      <th>3</th>\n",
       "      <td>10</td>\n",
       "      <td>294583</td>\n",
       "      <td>79.50</td>\n",
       "      <td>1</td>\n",
       "      <td>5</td>\n",
       "      <td>1</td>\n",
       "    </tr>\n",
       "    <tr>\n",
       "      <th>4</th>\n",
       "      <td>11</td>\n",
       "      <td>973221</td>\n",
       "      <td>84.86</td>\n",
       "      <td>9</td>\n",
       "      <td>5</td>\n",
       "      <td>0</td>\n",
       "    </tr>\n",
       "    <tr>\n",
       "      <th>5</th>\n",
       "      <td>3</td>\n",
       "      <td>734220</td>\n",
       "      <td>56.81</td>\n",
       "      <td>4</td>\n",
       "      <td>3</td>\n",
       "      <td>0</td>\n",
       "    </tr>\n",
       "  </tbody>\n",
       "</table>\n",
       "</div>"
      ],
      "text/plain": [
       "   genre  num_sales  price  rating  author_rating  recommend\n",
       "1     17     676405  94.12       6              5          1\n",
       "2      5      53434  44.66      10             10          0\n",
       "3     10     294583  79.50       1              5          1\n",
       "4     11     973221  84.86       9              5          0\n",
       "5      3     734220  56.81       4              3          0"
      ]
     },
     "execution_count": 7,
     "metadata": {},
     "output_type": "execute_result"
    }
   ],
   "source": [
    "from sklearn.preprocessing import LabelEncoder\n",
    "labelEncoder = LabelEncoder()\n",
    "categ_for_lable_encode = ['genre', 'recommend']\n",
    "for category in categ_for_lable_encode:\n",
    "    df[category] = labelEncoder.fit_transform(df[category])\n",
    "df.head()"
   ]
  },
  {
   "cell_type": "code",
   "execution_count": 8,
   "id": "d1378fc4-602b-473b-b000-679a005ac56e",
   "metadata": {},
   "outputs": [],
   "source": [
    "data = df.drop('recommend', axis = 1)\n",
    "target_data = df['recommend']\n",
    "\n",
    "# Разделим на обучающую и тестовую выборки\n",
    "from sklearn.model_selection import train_test_split\n",
    "\n",
    "X_train, X_test, y_train, y_test = train_test_split(\n",
    "                data, target_data, test_size=0.33, random_state=42)"
   ]
  },
  {
   "cell_type": "code",
   "execution_count": 9,
   "id": "13816e8c-7f43-437a-9347-b47761f62050",
   "metadata": {},
   "outputs": [],
   "source": [
    "forest_model = RandomForestClassifier()"
   ]
  },
  {
   "cell_type": "code",
   "execution_count": 11,
   "id": "4e9b15af-6957-4c7c-9bef-fbc2d70e9016",
   "metadata": {},
   "outputs": [],
   "source": [
    "forest_model.fit(X_train, y_train)\n",
    "preds = forest_model.predict(X_test)"
   ]
  },
  {
   "cell_type": "code",
   "execution_count": 12,
   "id": "8f926d62-e72b-4a95-bd89-6a0e84312de5",
   "metadata": {},
   "outputs": [
    {
     "name": "stdout",
     "output_type": "stream",
     "text": [
      "              precision    recall  f1-score   support\n",
      "\n",
      "           0       0.60      0.62      0.61      8198\n",
      "           1       0.61      0.58      0.60      8302\n",
      "\n",
      "    accuracy                           0.60     16500\n",
      "   macro avg       0.60      0.60      0.60     16500\n",
      "weighted avg       0.60      0.60      0.60     16500\n",
      "\n"
     ]
    }
   ],
   "source": [
    "print(classification_report(y_test, preds))"
   ]
  },
  {
   "cell_type": "code",
   "execution_count": 18,
   "id": "80c4cbea-bf28-4e79-9513-8f099582f0f8",
   "metadata": {},
   "outputs": [],
   "source": [
    "crossval_score = []\n",
    "\n",
    "for i in range(1, data.shape[1] + 1):\n",
    "    skb = SelectKBest(score_func=f_classif, k=i)\n",
    "    Xreduced = skb.fit_transform(data, target_data)\n",
    "    scores = cross_val_score(forest_model, Xreduced, target_data, cv = 5)\n",
    "    crossval_score.append(scores.mean())"
   ]
  },
  {
   "cell_type": "code",
   "execution_count": 21,
   "id": "9c873daa-9d98-4932-aa1d-1318612ea5e8",
   "metadata": {},
   "outputs": [
    {
     "data": {
      "text/plain": [
       "<matplotlib.collections.PathCollection at 0x20ccfafd610>"
      ]
     },
     "execution_count": 21,
     "metadata": {},
     "output_type": "execute_result"
    },
    {
     "data": {
      "image/png": "[encoded data removed]",
      "text/plain": [
       "<Figure size 640x480 with 1 Axes>"
      ]
     },
     "metadata": {},
     "output_type": "display_data"
    }
   ],
   "source": [
    "plt.plot(range(1, data.shape[1] + 1), crossval_score)\n",
    "plt.grid()\n",
    "plt.scatter(crossval_score.index(max(crossval_score)) + 1, max(crossval_score), c='r')"
   ]
  },
  {
   "cell_type": "code",
   "execution_count": 22,
   "id": "03949e73-ee3b-410a-9d1e-f86d28fc070d",
   "metadata": {},
   "outputs": [],
   "source": [
    "skb = SelectKBest(score_func=f_classif, k=2)\n",
    "X_new = skb.fit_transform(data, target_data)"
   ]
  },
  {
   "cell_type": "code",
   "execution_count": 23,
   "id": "fc830c3c-79d8-47a1-b388-015536a8294d",
   "metadata": {},
   "outputs": [],
   "source": [
    "X_train = skb.transform(X_train)\n",
    "X_test = skb.transform(X_test)"
   ]
  },
  {
   "cell_type": "code",
   "execution_count": 24,
   "id": "fe0b9110-09ef-44f7-a31c-0709e18d879c",
   "metadata": {},
   "outputs": [],
   "source": [
    "from sklearn.model_selection import RandomizedSearchCV"
   ]
  },
  {
   "cell_type": "code",
   "execution_count": 26,
   "id": "2b64cff8-d511-4465-88cc-33ab22ea24a9",
   "metadata": {},
   "outputs": [],
   "source": [
    "grid = {\n",
    "    'n_estimators': list(range(10, 100, 5)),\n",
    "    'max_features': list(range(1, X_new.shape[1] + 1)),\n",
    "    'min_samples_leaf': list(range(1, 15))\n",
    "}"
   ]
  },
  {
   "cell_type": "code",
   "execution_count": 29,
   "id": "2498d9f9-758a-4d0e-829e-5b5798794bbb",
   "metadata": {},
   "outputs": [],
   "source": [
    "clf = RandomizedSearchCV(forest_model, grid, random_state=42)\n",
    "search = clf.fit(X_new, target_data)"
   ]
  },
  {
   "cell_type": "code",
   "execution_count": 30,
   "id": "41e0f229-dea6-4116-8c11-49b0bcf2d2d6",
   "metadata": {},
   "outputs": [
    {
     "data": {
      "text/plain": [
       "{'n_estimators': 30, 'min_samples_leaf': 2, 'max_features': 2}"
      ]
     },
     "execution_count": 30,
     "metadata": {},
     "output_type": "execute_result"
    }
   ],
   "source": [
    "search.best_params_"
   ]
  },
  {
   "cell_type": "code",
   "execution_count": 31,
   "id": "e7e166db-9811-4bab-a552-f453308b8c96",
   "metadata": {},
   "outputs": [
    {
     "name": "stdout",
     "output_type": "stream",
     "text": [
      "              precision    recall  f1-score   support\n",
      "\n",
      "           0       0.63      0.64      0.63      8198\n",
      "           1       0.64      0.63      0.64      8302\n",
      "\n",
      "    accuracy                           0.63     16500\n",
      "   macro avg       0.63      0.63      0.63     16500\n",
      "weighted avg       0.63      0.63      0.63     16500\n",
      "\n"
     ]
    }
   ],
   "source": [
    "model = RandomForestClassifier(n_estimators=30, min_samples_leaf=2, max_features=2,)\n",
    "model.fit(X_train, y_train)\n",
    "preds = model.predict(X_test)\n",
    "print(classification_report(y_test, preds))"
   ]
  },
  {
   "cell_type": "code",
   "execution_count": 32,
   "id": "50aa5b73-5f47-4d28-817c-e6d1226b24d4",
   "metadata": {},
   "outputs": [
    {
     "data": {
      "text/plain": [
       "array([[5224, 2974],\n",
       "       [3050, 5252]], dtype=int64)"
      ]
     },
     "execution_count": 32,
     "metadata": {},
     "output_type": "execute_result"
    }
   ],
   "source": [
    "        confusion_matrix(y_test, preds)"
   ]
  }
 ],
 "metadata": {
  "kernelspec": {
   "display_name": "Python 3 (ipykernel)",
   "language": "python",
   "name": "python3"
  },
  "language_info": {
   "codemirror_mode": {
    "name": "ipython",
    "version": 3
   },
   "file_extension": ".py",
   "mimetype": "text/x-python",
   "name": "python",
   "nbconvert_exporter": "python",
   "pygments_lexer": "ipython3",
   "version": "3.8.3"
  }
 },
 "nbformat": 4,
 "nbformat_minor": 5
}
